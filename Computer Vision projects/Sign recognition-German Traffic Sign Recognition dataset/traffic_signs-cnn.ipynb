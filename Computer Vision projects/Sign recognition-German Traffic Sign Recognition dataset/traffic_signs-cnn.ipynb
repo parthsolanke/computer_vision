{
 "cells": [
  {
   "cell_type": "code",
   "execution_count": 9,
   "metadata": {},
   "outputs": [],
   "source": [
    "import cv2 as cv\n",
    "import numpy as np\n",
    "import matplotlib.pyplot as plt\n",
    "import os\n",
    "import sys\n",
    "import tensorflow as tf\n",
    "from sklearn.model_selection import train_test_split"
   ]
  },
  {
   "cell_type": "code",
   "execution_count": 10,
   "metadata": {},
   "outputs": [],
   "source": [
    "EPOCHS = 10\n",
    "IMG_WIDTH = 30\n",
    "IMG_HEIGHT = 30\n",
    "NUM_CATEGORIES = 43\n",
    "TEST_SIZE = 0.4\n",
    "filename = \"traffic.h5\"\n",
    "data_dir = r\"traffic_signs\""
   ]
  },
  {
   "cell_type": "code",
   "execution_count": 11,
   "metadata": {},
   "outputs": [],
   "source": [
    "def load_data(data_dir):\n",
    "   # loading data and labels\n",
    "    images = []\n",
    "    labels = []\n",
    "    classes = []\n",
    "    \n",
    "    # joining data_dir path and folder paths\n",
    "    for dir in os.listdir(data_dir):\n",
    "        folder = os.path.join(data_dir, dir)\n",
    "        classes.append(dir)\n",
    "        # message\n",
    "        if os.path.isdir(folder):\n",
    "            print(f\"Loading files from {folder}\")\n",
    "        \n",
    "        # looking for images in folders\n",
    "        for file in os.listdir(folder):\n",
    "            # reading and resizing images\n",
    "            img = cv.imread(os.path.join(folder, file))\n",
    "            img = cv.resize(img, (IMG_WIDTH, IMG_HEIGHT))\n",
    "            \n",
    "            # appending lists\n",
    "            images.append(img)\n",
    "            labels.append(int(dir))\n",
    "            \n",
    "    # returning lists        \n",
    "    return images, labels, classes"
   ]
  },
  {
   "cell_type": "code",
   "execution_count": 17,
   "metadata": {},
   "outputs": [],
   "source": [
    "def get_model():\n",
    "    # defining model\n",
    "    model = tf.keras.models.Sequential([\n",
    "        \n",
    "        # adding convolutional layer with 32 filters by 3x3 kernal\n",
    "        tf.keras.layers.Conv2D(32, (3,3), activation=\"sigmoid\", input_shape=(IMG_WIDTH, IMG_HEIGHT, 3)),\n",
    "        \n",
    "        # adding max_pooling layer with pool size 2x2 with 45% dropout\n",
    "        tf.keras.layers.MaxPooling2D(pool_size=(2, 2)),\n",
    "        tf.keras.layers.Dropout(0.45),\n",
    "        \n",
    "        # flattening all the units with dropout with 30%\n",
    "        tf.keras.layers.Flatten(),\n",
    "        \n",
    "        # adding hidden layer with 128 units with 50% dropout\n",
    "        tf.keras.layers.Dense(256, activation=\"sigmoid\"),\n",
    "        tf.keras.layers.Dropout(0.5),\n",
    "        \n",
    "        # adding output layer with 10 units to get probablity for 10 digits with softmax activation fn\n",
    "        tf.keras.layers.Dense(NUM_CATEGORIES, activation=\"softmax\")\n",
    "    ])\n",
    "    \n",
    "    # compiling model\n",
    "    model.compile(\n",
    "        optimizer=\"adam\",\n",
    "        loss=\"categorical_crossentropy\",\n",
    "        metrics=[\"accuracy\"]\n",
    "    )\n",
    "    \n",
    "    # getting model summary\n",
    "    model.summary()\n",
    "    return model"
   ]
  },
  {
   "cell_type": "code",
   "execution_count": 18,
   "metadata": {},
   "outputs": [
    {
     "name": "stdout",
     "output_type": "stream",
     "text": [
      "Loading files from traffic_signs\\0\n",
      "Loading files from traffic_signs\\1\n",
      "Loading files from traffic_signs\\10\n",
      "Loading files from traffic_signs\\11\n",
      "Loading files from traffic_signs\\12\n",
      "Loading files from traffic_signs\\13\n",
      "Loading files from traffic_signs\\14\n",
      "Loading files from traffic_signs\\15\n",
      "Loading files from traffic_signs\\16\n",
      "Loading files from traffic_signs\\17\n",
      "Loading files from traffic_signs\\18\n",
      "Loading files from traffic_signs\\19\n",
      "Loading files from traffic_signs\\2\n",
      "Loading files from traffic_signs\\20\n",
      "Loading files from traffic_signs\\21\n",
      "Loading files from traffic_signs\\22\n",
      "Loading files from traffic_signs\\23\n",
      "Loading files from traffic_signs\\24\n",
      "Loading files from traffic_signs\\25\n",
      "Loading files from traffic_signs\\26\n",
      "Loading files from traffic_signs\\27\n",
      "Loading files from traffic_signs\\28\n",
      "Loading files from traffic_signs\\29\n",
      "Loading files from traffic_signs\\3\n",
      "Loading files from traffic_signs\\30\n",
      "Loading files from traffic_signs\\31\n",
      "Loading files from traffic_signs\\32\n",
      "Loading files from traffic_signs\\33\n",
      "Loading files from traffic_signs\\34\n",
      "Loading files from traffic_signs\\35\n",
      "Loading files from traffic_signs\\36\n",
      "Loading files from traffic_signs\\37\n",
      "Loading files from traffic_signs\\38\n",
      "Loading files from traffic_signs\\39\n",
      "Loading files from traffic_signs\\4\n",
      "Loading files from traffic_signs\\40\n",
      "Loading files from traffic_signs\\41\n",
      "Loading files from traffic_signs\\42\n",
      "Loading files from traffic_signs\\5\n",
      "Loading files from traffic_signs\\6\n",
      "Loading files from traffic_signs\\7\n",
      "Loading files from traffic_signs\\8\n",
      "Loading files from traffic_signs\\9\n"
     ]
    }
   ],
   "source": [
    "# getting data\n",
    "images, labels, classes = load_data(data_dir)\n",
    "\n",
    "# converting integer labeles to binary matrices to use categorical_crossentropy loss fn\n",
    "labels = tf.keras.utils.to_categorical(labels)\n",
    "\n",
    "# performing train test split\n",
    "x_train, x_test, y_train, y_test =  train_test_split(np.array(images), np.array(labels), test_size=TEST_SIZE)"
   ]
  },
  {
   "cell_type": "code",
   "execution_count": 19,
   "metadata": {},
   "outputs": [
    {
     "name": "stdout",
     "output_type": "stream",
     "text": [
      "Model: \"sequential_3\"\n",
      "_________________________________________________________________\n",
      " Layer (type)                Output Shape              Param #   \n",
      "=================================================================\n",
      " conv2d_3 (Conv2D)           (None, 28, 28, 32)        896       \n",
      "                                                                 \n",
      " max_pooling2d_3 (MaxPooling  (None, 14, 14, 32)       0         \n",
      " 2D)                                                             \n",
      "                                                                 \n",
      " dropout_6 (Dropout)         (None, 14, 14, 32)        0         \n",
      "                                                                 \n",
      " flatten_3 (Flatten)         (None, 6272)              0         \n",
      "                                                                 \n",
      " dense_6 (Dense)             (None, 256)               1605888   \n",
      "                                                                 \n",
      " dropout_7 (Dropout)         (None, 256)               0         \n",
      "                                                                 \n",
      " dense_7 (Dense)             (None, 43)                11051     \n",
      "                                                                 \n",
      "=================================================================\n",
      "Total params: 1,617,835\n",
      "Trainable params: 1,617,835\n",
      "Non-trainable params: 0\n",
      "_________________________________________________________________\n"
     ]
    }
   ],
   "source": [
    "# getting model\n",
    "model = get_model()"
   ]
  },
  {
   "cell_type": "code",
   "execution_count": 20,
   "metadata": {},
   "outputs": [
    {
     "name": "stdout",
     "output_type": "stream",
     "text": [
      "Epoch 1/10\n",
      "500/500 [==============================] - 9s 17ms/step - loss: 2.1812 - accuracy: 0.4252 - val_loss: 0.6856 - val_accuracy: 0.8557\n",
      "Epoch 2/10\n",
      "500/500 [==============================] - 9s 17ms/step - loss: 0.6239 - accuracy: 0.8358 - val_loss: 0.2647 - val_accuracy: 0.9545\n",
      "Epoch 3/10\n",
      "500/500 [==============================] - 8s 17ms/step - loss: 0.3575 - accuracy: 0.9078 - val_loss: 0.1532 - val_accuracy: 0.9704\n",
      "Epoch 4/10\n",
      "500/500 [==============================] - 8s 17ms/step - loss: 0.2491 - accuracy: 0.9374 - val_loss: 0.1073 - val_accuracy: 0.9800\n",
      "Epoch 5/10\n",
      "500/500 [==============================] - 8s 17ms/step - loss: 0.1922 - accuracy: 0.9506 - val_loss: 0.1121 - val_accuracy: 0.9739\n",
      "Epoch 6/10\n",
      "500/500 [==============================] - 9s 17ms/step - loss: 0.1752 - accuracy: 0.9519 - val_loss: 0.0888 - val_accuracy: 0.9791\n",
      "Epoch 7/10\n",
      "500/500 [==============================] - 9s 17ms/step - loss: 0.1417 - accuracy: 0.9628 - val_loss: 0.0679 - val_accuracy: 0.9847\n",
      "Epoch 8/10\n",
      "500/500 [==============================] - 9s 17ms/step - loss: 0.1335 - accuracy: 0.9623 - val_loss: 0.0748 - val_accuracy: 0.9800\n",
      "Epoch 9/10\n",
      "500/500 [==============================] - 8s 17ms/step - loss: 0.1133 - accuracy: 0.9683 - val_loss: 0.0581 - val_accuracy: 0.9864\n",
      "Epoch 10/10\n",
      "500/500 [==============================] - 9s 17ms/step - loss: 0.1101 - accuracy: 0.9693 - val_loss: 0.0554 - val_accuracy: 0.9864\n"
     ]
    }
   ],
   "source": [
    "# training model\n",
    "history = model.fit(x_train, y_train, epochs=EPOCHS, validation_data=(x_test,  y_test))"
   ]
  },
  {
   "cell_type": "code",
   "execution_count": 21,
   "metadata": {},
   "outputs": [
    {
     "name": "stdout",
     "output_type": "stream",
     "text": [
      "333/333 - 1s - loss: 0.0554 - accuracy: 0.9864 - 1s/epoch - 4ms/step\n"
     ]
    },
    {
     "data": {
      "image/png": "[encoded data removed]",
      "text/plain": [
       "<Figure size 640x480 with 1 Axes>"
      ]
     },
     "metadata": {},
     "output_type": "display_data"
    }
   ],
   "source": [
    "# plotting evaluation graph\n",
    "plt.plot(history.history['accuracy'], label='accuracy')\n",
    "plt.plot(history.history['val_accuracy'], label = 'val_accuracy')\n",
    "plt.xlabel('Epoch')\n",
    "plt.ylabel('Accuracy')\n",
    "plt.ylim([0.5, 1])\n",
    "plt.legend(loc='lower right')\n",
    "\n",
    "# Evaluating the model\n",
    "test_loss, test_acc = model.evaluate(x_test,  y_test, verbose=2)"
   ]
  },
  {
   "cell_type": "code",
   "execution_count": 22,
   "metadata": {},
   "outputs": [
    {
     "name": "stdout",
     "output_type": "stream",
     "text": [
      "Model saved to traffic.h5.\n"
     ]
    }
   ],
   "source": [
    "# saving the model\n",
    "model.save(filename)\n",
    "print(f\"Model saved to {filename}.\")"
   ]
  },
  {
   "cell_type": "code",
   "execution_count": 23,
   "metadata": {},
   "outputs": [
    {
     "data": {
      "image/png": "[encoded data removed]",
      "text/plain": [
       "<Figure size 640x480 with 1 Axes>"
      ]
     },
     "metadata": {},
     "output_type": "display_data"
    },
    {
     "name": "stdout",
     "output_type": "stream",
     "text": [
      "(30, 30, 3)\n"
     ]
    }
   ],
   "source": [
    "# loading saved model\n",
    "loaded_model = tf.keras.models.load_model(r\"traffic.h5\")\n",
    "img = cv.imread(r\"test_img.png\")\n",
    "img = cv.cvtColor(img, cv.COLOR_BGR2RGB)\n",
    "img = cv.resize(img, (30, 30))\n",
    "plt.imshow(img)\n",
    "plt.show()\n",
    "print(img.shape)"
   ]
  },
  {
   "cell_type": "code",
   "execution_count": 24,
   "metadata": {},
   "outputs": [
    {
     "name": "stdout",
     "output_type": "stream",
     "text": [
      "1/1 [==============================] - 0s 126ms/step\n",
      "7\n"
     ]
    }
   ],
   "source": [
    "img = np.expand_dims(img, axis=0)\n",
    "prediction = loaded_model.predict(img)\n",
    "prediction = classes[np.argmax(prediction)]\n",
    "print(prediction)"
   ]
  },
  {
   "cell_type": "code",
   "execution_count": 25,
   "metadata": {},
   "outputs": [],
   "source": [
    "# creating a function to preprocess test image and give predictions\n",
    "def predict(image):\n",
    "    # preprocessing\n",
    "    image = cv.cvtColor(image, cv.COLOR_BGR2RGB)\n",
    "    image = cv.resize(image, (30, 30))\n",
    "    image = np.expand_dims(image, axis=0)\n",
    "    prediction = loaded_model.predict(image)\n",
    "    # getting the highest probablity\n",
    "    prediction = classes[np.argmax(prediction)]\n",
    "    \n",
    "    return prediction"
   ]
  },
  {
   "cell_type": "code",
   "execution_count": 26,
   "metadata": {},
   "outputs": [
    {
     "name": "stdout",
     "output_type": "stream",
     "text": [
      "1/1 [==============================] - 0s 29ms/step\n",
      "Prediction: 7\n"
     ]
    }
   ],
   "source": [
    "test_image = cv.imread(r\"test_img.png\")\n",
    "print(\"Prediction:\", predict(test_image))"
   ]
  }
 ],
 "metadata": {
  "kernelspec": {
   "display_name": "Python 3",
   "language": "python",
   "name": "python3"
  },
  "language_info": {
   "codemirror_mode": {
    "name": "ipython",
    "version": 3
   },
   "file_extension": ".py",
   "mimetype": "text/x-python",
   "name": "python",
   "nbconvert_exporter": "python",
   "pygments_lexer": "ipython3",
   "version": "3.9.9"
  },
  "orig_nbformat": 4
 },
 "nbformat": 4,
 "nbformat_minor": 2
}
