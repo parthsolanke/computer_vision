{
 "cells": [
  {
   "cell_type": "code",
   "execution_count": 1,
   "metadata": {},
   "outputs": [],
   "source": [
    "import cv2 as cv\n",
    "import numpy as np\n",
    "import matplotlib.pyplot as plt\n",
    "import os\n",
    "import sys\n",
    "import tensorflow as tf\n",
    "from sklearn.model_selection import train_test_split"
   ]
  },
  {
   "cell_type": "code",
   "execution_count": 2,
   "metadata": {},
   "outputs": [],
   "source": [
    "EPOCHS = 10\n",
    "IMG_WIDTH = 30\n",
    "IMG_HEIGHT = 30\n",
    "NUM_CATEGORIES = 43\n",
    "TEST_SIZE = 0.4\n",
    "filename = \"traffic.h5\"\n",
    "data_dir = r\"traffic_signs\""
   ]
  },
  {
   "cell_type": "code",
   "execution_count": 3,
   "metadata": {},
   "outputs": [],
   "source": [
    "def load_data(data_dir):\n",
    "   # loading data and labels\n",
    "    images = []\n",
    "    labels = []\n",
    "    \n",
    "    # joining data_dir path and folder paths\n",
    "    for dir in os.listdir(data_dir):\n",
    "        folder = os.path.join(data_dir, dir)\n",
    "        \n",
    "        # message\n",
    "        if os.path.isdir(folder):\n",
    "            print(f\"Loading files from {folder}\")\n",
    "        \n",
    "        # looking for images in folders\n",
    "        for file in os.listdir(folder):\n",
    "            # reading and resizing images\n",
    "            img = cv.imread(os.path.join(folder, file))\n",
    "            img = cv.resize(img, (IMG_WIDTH, IMG_HEIGHT))\n",
    "            \n",
    "            # appending lists\n",
    "            images.append(img)\n",
    "            labels.append(int(dir))\n",
    "            \n",
    "    # returning lists        \n",
    "    return images, labels"
   ]
  },
  {
   "cell_type": "code",
   "execution_count": 4,
   "metadata": {},
   "outputs": [],
   "source": [
    "def get_model():\n",
    "    # defining model\n",
    "    model = tf.keras.models.Sequential([\n",
    "        \n",
    "        # adding convolutional layer with 32 filters by 3x3 kernal\n",
    "        tf.keras.layers.Conv2D(32, (3,3), activation=\"sigmoid\", input_shape=(IMG_WIDTH, IMG_HEIGHT, 3)),\n",
    "        \n",
    "        # adding max_pooling layer with pool size 2x2\n",
    "        tf.keras.layers.MaxPooling2D(pool_size=(2, 2)),\n",
    "        \n",
    "        # flattening all the units with dropout with 30%\n",
    "        tf.keras.layers.Flatten(),\n",
    "        \n",
    "        # adding hidden layer with 128 units with 50% dropout\n",
    "        tf.keras.layers.Dense(256, activation=\"sigmoid\"),\n",
    "        tf.keras.layers.Dropout(0.5),\n",
    "        \n",
    "        # adding output layer with 10 units to get probablity for 10 digits with softmax activation fn\n",
    "        tf.keras.layers.Dense(NUM_CATEGORIES, activation=\"softmax\")\n",
    "    ])\n",
    "    \n",
    "    # compiling model\n",
    "    model.compile(\n",
    "        optimizer=\"adam\",\n",
    "        loss=\"categorical_crossentropy\",\n",
    "        metrics=[\"accuracy\"]\n",
    "    )\n",
    "    \n",
    "    # getting model summary\n",
    "    model.summary()\n",
    "    return model"
   ]
  },
  {
   "cell_type": "code",
   "execution_count": 5,
   "metadata": {},
   "outputs": [
    {
     "name": "stdout",
     "output_type": "stream",
     "text": [
      "Loading files from traffic_signs\\0\n",
      "Loading files from traffic_signs\\1\n",
      "Loading files from traffic_signs\\10\n",
      "Loading files from traffic_signs\\11\n",
      "Loading files from traffic_signs\\12\n",
      "Loading files from traffic_signs\\13\n",
      "Loading files from traffic_signs\\14\n",
      "Loading files from traffic_signs\\15\n",
      "Loading files from traffic_signs\\16\n",
      "Loading files from traffic_signs\\17\n",
      "Loading files from traffic_signs\\18\n",
      "Loading files from traffic_signs\\19\n",
      "Loading files from traffic_signs\\2\n",
      "Loading files from traffic_signs\\20\n",
      "Loading files from traffic_signs\\21\n",
      "Loading files from traffic_signs\\22\n",
      "Loading files from traffic_signs\\23\n",
      "Loading files from traffic_signs\\24\n",
      "Loading files from traffic_signs\\25\n",
      "Loading files from traffic_signs\\26\n",
      "Loading files from traffic_signs\\27\n",
      "Loading files from traffic_signs\\28\n",
      "Loading files from traffic_signs\\29\n",
      "Loading files from traffic_signs\\3\n",
      "Loading files from traffic_signs\\30\n",
      "Loading files from traffic_signs\\31\n",
      "Loading files from traffic_signs\\32\n",
      "Loading files from traffic_signs\\33\n",
      "Loading files from traffic_signs\\34\n",
      "Loading files from traffic_signs\\35\n",
      "Loading files from traffic_signs\\36\n",
      "Loading files from traffic_signs\\37\n",
      "Loading files from traffic_signs\\38\n",
      "Loading files from traffic_signs\\39\n",
      "Loading files from traffic_signs\\4\n",
      "Loading files from traffic_signs\\40\n",
      "Loading files from traffic_signs\\41\n",
      "Loading files from traffic_signs\\42\n",
      "Loading files from traffic_signs\\5\n",
      "Loading files from traffic_signs\\6\n",
      "Loading files from traffic_signs\\7\n",
      "Loading files from traffic_signs\\8\n",
      "Loading files from traffic_signs\\9\n"
     ]
    }
   ],
   "source": [
    "# getting data\n",
    "images, labels = load_data(data_dir)\n",
    "\n",
    "# converting integer labeles to binary matrices to use categorical_crossentropy loss fn\n",
    "labels = tf.keras.utils.to_categorical(labels)\n",
    "\n",
    "# performing train test split\n",
    "x_train, x_test, y_train, y_test =  train_test_split(np.array(images), np.array(labels), test_size=TEST_SIZE)"
   ]
  },
  {
   "cell_type": "code",
   "execution_count": 6,
   "metadata": {},
   "outputs": [
    {
     "name": "stdout",
     "output_type": "stream",
     "text": [
      "Model: \"sequential\"\n",
      "_________________________________________________________________\n",
      " Layer (type)                Output Shape              Param #   \n",
      "=================================================================\n",
      " conv2d (Conv2D)             (None, 28, 28, 32)        896       \n",
      "                                                                 \n",
      " max_pooling2d (MaxPooling2D  (None, 14, 14, 32)       0         \n",
      " )                                                               \n",
      "                                                                 \n",
      " flatten (Flatten)           (None, 6272)              0         \n",
      "                                                                 \n",
      " dense (Dense)               (None, 256)               1605888   \n",
      "                                                                 \n",
      " dropout (Dropout)           (None, 256)               0         \n",
      "                                                                 \n",
      " dense_1 (Dense)             (None, 43)                11051     \n",
      "                                                                 \n",
      "=================================================================\n",
      "Total params: 1,617,835\n",
      "Trainable params: 1,617,835\n",
      "Non-trainable params: 0\n",
      "_________________________________________________________________\n"
     ]
    }
   ],
   "source": [
    "# getting model\n",
    "model = get_model()"
   ]
  },
  {
   "cell_type": "code",
   "execution_count": 7,
   "metadata": {},
   "outputs": [
    {
     "name": "stdout",
     "output_type": "stream",
     "text": [
      "Epoch 1/10\n",
      "500/500 [==============================] - 8s 14ms/step - loss: 2.3333 - accuracy: 0.3909\n",
      "Epoch 2/10\n",
      "500/500 [==============================] - 7s 14ms/step - loss: 0.4958 - accuracy: 0.8823\n",
      "Epoch 3/10\n",
      "500/500 [==============================] - 7s 14ms/step - loss: 0.2146 - accuracy: 0.9556\n",
      "Epoch 4/10\n",
      "500/500 [==============================] - 7s 14ms/step - loss: 0.1214 - accuracy: 0.9772\n",
      "Epoch 5/10\n",
      "500/500 [==============================] - 7s 14ms/step - loss: 0.0880 - accuracy: 0.9838\n",
      "Epoch 6/10\n",
      "500/500 [==============================] - 7s 14ms/step - loss: 0.0692 - accuracy: 0.9860\n",
      "Epoch 7/10\n",
      "500/500 [==============================] - 7s 14ms/step - loss: 0.0547 - accuracy: 0.9905\n",
      "Epoch 8/10\n",
      "500/500 [==============================] - 7s 15ms/step - loss: 0.0332 - accuracy: 0.9956\n",
      "Epoch 9/10\n",
      "500/500 [==============================] - 7s 14ms/step - loss: 0.0373 - accuracy: 0.9931\n",
      "Epoch 10/10\n",
      "500/500 [==============================] - 8s 15ms/step - loss: 0.0340 - accuracy: 0.9938\n"
     ]
    },
    {
     "data": {
      "text/plain": [
       "<keras.callbacks.History at 0x259eedd6f10>"
      ]
     },
     "execution_count": 7,
     "metadata": {},
     "output_type": "execute_result"
    }
   ],
   "source": [
    "# training model\n",
    "model.fit(x_train, y_train, epochs=EPOCHS)"
   ]
  },
  {
   "cell_type": "code",
   "execution_count": 8,
   "metadata": {},
   "outputs": [
    {
     "name": "stdout",
     "output_type": "stream",
     "text": [
      "333/333 - 2s - loss: 0.0573 - accuracy: 0.9850 - 2s/epoch - 5ms/step\n"
     ]
    },
    {
     "data": {
      "text/plain": [
       "[0.05732319876551628, 0.9849849939346313]"
      ]
     },
     "execution_count": 8,
     "metadata": {},
     "output_type": "execute_result"
    }
   ],
   "source": [
    "# Evaluating the model\n",
    "model.evaluate(x_test,  y_test, verbose=2)"
   ]
  },
  {
   "cell_type": "code",
   "execution_count": 9,
   "metadata": {},
   "outputs": [
    {
     "name": "stdout",
     "output_type": "stream",
     "text": [
      "Model saved to traffic.h5.\n"
     ]
    }
   ],
   "source": [
    "# saving the model\n",
    "model.save(filename)\n",
    "print(f\"Model saved to {filename}.\")"
   ]
  },
  {
   "cell_type": "code",
   "execution_count": 31,
   "metadata": {},
   "outputs": [
    {
     "data": {
      "image/png": "[encoded data removed]",
      "text/plain": [
       "<Figure size 640x480 with 1 Axes>"
      ]
     },
     "metadata": {},
     "output_type": "display_data"
    },
    {
     "name": "stdout",
     "output_type": "stream",
     "text": [
      "(30, 30, 3)\n"
     ]
    }
   ],
   "source": [
    "# loading saved model\n",
    "loaded_model = tf.keras.models.load_model(r\"traffic.h5\")\n",
    "img = cv.imread(r\"test_img.jpg\")\n",
    "img = cv.cvtColor(img, cv.COLOR_BGR2RGB)\n",
    "img = cv.resize(img, (30, 30))\n",
    "plt.imshow(img)\n",
    "plt.show()\n",
    "print(img.shape)"
   ]
  },
  {
   "cell_type": "code",
   "execution_count": 32,
   "metadata": {},
   "outputs": [
    {
     "name": "stdout",
     "output_type": "stream",
     "text": [
      "1/1 [==============================] - 0s 106ms/step\n"
     ]
    }
   ],
   "source": [
    "img = np.expand_dims(img, axis=0)\n",
    "prediction = loaded_model.predict(img)\n",
    "prediction = labels[np.argmax(prediction)]"
   ]
  },
  {
   "cell_type": "code",
   "execution_count": 33,
   "metadata": {},
   "outputs": [],
   "source": [
    "# creating a function to preprocess test image and give predictions\n",
    "def predict(image):\n",
    "    # preprocessing\n",
    "    image = cv.cvtColor(image, cv.COLOR_BGR2RGB)\n",
    "    image = cv.resize(image, (30, 30))\n",
    "    image = np.expand_dims(image, axis=0)\n",
    "    prediction = loaded_model.predict(image)\n",
    "    # getting the highest probablity\n",
    "    prediction = labels[np.argmax(prediction)]\n",
    "    \n",
    "    return prediction"
   ]
  },
  {
   "cell_type": "code",
   "execution_count": 34,
   "metadata": {},
   "outputs": [
    {
     "name": "stdout",
     "output_type": "stream",
     "text": [
      "1/1 [==============================] - 0s 34ms/step\n"
     ]
    },
    {
     "data": {
      "text/plain": [
       "array([1., 0., 0., 0., 0., 0., 0., 0., 0., 0., 0., 0., 0., 0., 0., 0., 0.,\n",
       "       0., 0., 0., 0., 0., 0., 0., 0., 0., 0., 0., 0., 0., 0., 0., 0., 0.,\n",
       "       0., 0., 0., 0., 0., 0., 0., 0., 0.], dtype=float32)"
      ]
     },
     "execution_count": 34,
     "metadata": {},
     "output_type": "execute_result"
    }
   ],
   "source": [
    "test_image = cv.imread(r\"test_img.jpg\")\n",
    "predict(test_image)"
   ]
  },
  {
   "cell_type": "code",
   "execution_count": 35,
   "metadata": {},
   "outputs": [
    {
     "name": "stdout",
     "output_type": "stream",
     "text": [
      "1/1 [==============================] - 0s 37ms/step\n"
     ]
    },
    {
     "data": {
      "text/plain": [
       "array([[9.2819755e-05, 7.5675605e-04, 3.1945172e-03, 3.4325055e-04,\n",
       "        1.0505070e-02, 2.2476653e-02, 2.4390256e-03, 3.8926613e-02,\n",
       "        3.3705770e-03, 1.9596710e-03, 3.4122325e-02, 2.5938606e-02,\n",
       "        5.4830605e-01, 2.1332658e-03, 4.9278431e-04, 3.1147883e-03,\n",
       "        8.6007186e-04, 2.5401392e-03, 7.3858355e-03, 4.9223516e-02,\n",
       "        1.2436059e-02, 9.2538819e-03, 7.0363982e-04, 8.7791355e-03,\n",
       "        2.3763282e-03, 5.4574744e-03, 3.0645439e-02, 2.4748927e-03,\n",
       "        2.7583694e-04, 3.3268004e-03, 4.7979743e-04, 2.9600591e-03,\n",
       "        1.3830564e-03, 2.5791850e-02, 1.3308160e-03, 1.2158466e-03,\n",
       "        6.6571361e-03, 5.2210097e-03, 1.7157210e-03, 7.5908643e-03,\n",
       "        9.1840930e-02, 3.8053265e-03, 1.6095757e-02]], dtype=float32)"
      ]
     },
     "execution_count": 35,
     "metadata": {},
     "output_type": "execute_result"
    }
   ],
   "source": [
    "loaded_model.predict(img)"
   ]
  }
 ],
 "metadata": {
  "kernelspec": {
   "display_name": "Python 3",
   "language": "python",
   "name": "python3"
  },
  "language_info": {
   "codemirror_mode": {
    "name": "ipython",
    "version": 3
   },
   "file_extension": ".py",
   "mimetype": "text/x-python",
   "name": "python",
   "nbconvert_exporter": "python",
   "pygments_lexer": "ipython3",
   "version": "3.9.9"
  },
  "orig_nbformat": 4
 },
 "nbformat": 4,
 "nbformat_minor": 2
}
